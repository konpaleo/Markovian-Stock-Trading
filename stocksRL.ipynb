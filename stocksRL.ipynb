{
  "nbformat": 4,
  "nbformat_minor": 0,
  "metadata": {
    "colab": {
      "provenance": [],
      "toc_visible": true
    },
    "kernelspec": {
      "name": "python3",
      "display_name": "Python 3"
    },
    "language_info": {
      "name": "python"
    }
  },
  "cells": [
    {
      "cell_type": "markdown",
      "source": [
        "#⏩Phase I : MDP & Policy Iteration"
      ],
      "metadata": {
        "id": "gs-GqwDd44jC"
      }
    },
    {
      "cell_type": "markdown",
      "source": [
        "##🔹MDP environment functions"
      ],
      "metadata": {
        "id": "Ve98qc3Zen1N"
      }
    },
    {
      "cell_type": "code",
      "execution_count": null,
      "metadata": {
        "id": "tEQ5csSojopF"
      },
      "outputs": [],
      "source": [
        "import numpy as np\n",
        "import pandas as pd\n",
        "import itertools\n",
        "\n",
        "def make_environment(N : int, price_range : list):\n",
        "  # H and L init_state rewards for each stock\n",
        "  rewards = np.zeros((N, 2))\n",
        "  for row in rewards:\n",
        "    row[0] = np.round(np.random.uniform(price_range[0], price_range[-1]), 4)\n",
        "    row[1] = np.round(np.random.uniform(row[0], price_range[-1]), 4)\n",
        "\n",
        "  # transition probabilities for each stock\n",
        "  probabilities = np.zeros((N, 4))\n",
        "  for row in probabilities:\n",
        "    for i in range(0, 3, 2):\n",
        "      row[i] = np.round(np.random.uniform(0,1), 4)\n",
        "      row[i+1] = 1 - row[i]\n",
        "\n",
        "  # initial state\n",
        "  init_state = np.zeros((N+1,))\n",
        "  for index, _ in enumerate(init_state):\n",
        "    init_state[index] = np.random.choice([0,1])\n",
        "  init_state[0] = np.random.choice(np.arange(N))\n",
        "  return rewards, probabilities, init_state\n",
        "\n",
        "\n",
        "def generate_possible_states(N : int):\n",
        "  '''Generates a (N*(2**N), N+1) array with rows representing all possible states'''\n",
        "  possible_states = np.empty((0, N + 1))\n",
        "  for action in range(N):\n",
        "    for x in itertools.product([0,1], repeat=N):\n",
        "      combination = list(x)\n",
        "      combination.insert(0, action)\n",
        "      possible_states = np.vstack((possible_states, combination))\n",
        "  return possible_states\n",
        "\n",
        "\n",
        "def make_next_state(current_state, action, trans_prob):\n",
        "  '''Generates a new state using the given transition probabilities'''\n",
        "  if action not in range(N):\n",
        "    raise ValueError(\"Action out of range!\")\n",
        "\n",
        "  next_state = np.zeros_like(current_state)\n",
        "  next_state[0] = action    # which stock we are holding\n",
        "  for i, value in enumerate(next_state):\n",
        "    if i == 0: continue\n",
        "    if current_state[i] == 1:\n",
        "      next_state[i] = np.random.choice([1,0], p=trans_prob[i-1, :2])\n",
        "    else:\n",
        "      next_state[i] = np.random.choice([0,1], p=trans_prob[i-1, 2:])\n",
        "  return next_state\n",
        "\n",
        "\n",
        "def eval_total_transition_P(current_state, next_state, trans_prob):\n",
        "  '''Returns the total probability of transitioning from a state to another'''\n",
        "  probability = 1\n",
        "  for i, value in enumerate(next_state):\n",
        "    if i == 0: continue\n",
        "    if current_state[i] == 1:\n",
        "      if next_state[i] == 1:\n",
        "        probability *= trans_prob[i-1, 0]\n",
        "      else:\n",
        "        probability *= trans_prob[i-1, 1]\n",
        "    else:\n",
        "      if next_state[i] == 1:\n",
        "        probability *= trans_prob[i-1, 3]\n",
        "      else:\n",
        "        probability *= trans_prob[i-1, 2]\n",
        "  return round(probability, 7)\n",
        "\n",
        "\n",
        "def eval_expected_reward(current_state, action, trans_prob, immediate_rewards, transaction_fee=0.01):\n",
        "  '''Returns the expected reward of taking action a given state s'''\n",
        "  if action not in range(N):\n",
        "    raise ValueError(\"Action out of range!\")\n",
        "\n",
        "  current_stock = int(current_state[0])\n",
        "  next_stock = action   # will determine if transaction fee is payed\n",
        "  if current_state[next_stock + 1] == 0:    # if in state \"L\"\n",
        "    expected_reward = trans_prob[next_stock, 2] * immediate_rewards[next_stock, 0]\\\n",
        "                      + trans_prob[next_stock, 3] * immediate_rewards[next_stock, 1]\n",
        "  else:   # if in state \"H\"\n",
        "    expected_reward = trans_prob[next_stock, 0] * immediate_rewards[next_stock, 1]\\\n",
        "                      + trans_prob[next_stock, 1] * immediate_rewards[next_stock, 0]\n",
        "\n",
        "  if next_stock != current_stock:   # pay fee\n",
        "    expected_reward -= transaction_fee\n",
        "  return round(expected_reward, 7)\n",
        "\n",
        "\n",
        "def eval_reward(current_state, next_state, immediate_rewards, transaction_fee):\n",
        "  '''Returns the true reward when transitioning from a state to another'''\n",
        "  current_stock = int(current_state[0])\n",
        "  next_stock = int(next_state[0])   # will determine if transaction fee is payed\n",
        "  next_stock_state = int(next_state[next_stock + 1])   # tells if the new stock is in state \"L\" or \"H\"\n",
        "  reward = immediate_rewards[next_stock, next_stock_state]\n",
        "  if next_stock != current_stock:   # pay fee\n",
        "    reward -= transaction_fee\n",
        "  return round(reward, 7)"
      ]
    },
    {
      "cell_type": "markdown",
      "source": [
        "##🔹Policy iteration"
      ],
      "metadata": {
        "id": "3tidzzjHeyZZ"
      }
    },
    {
      "cell_type": "code",
      "source": [
        "def evaluate_policy(policy, states, trans_prob, immediate_rewards, fee, gamma, epsilon=1e-07):\n",
        "  '''Returns a vector with the value of each state under the given policy'''\n",
        "  prev_V = np.zeros((len(states)))\n",
        "  while True:\n",
        "    V = np.zeros((len(states)))\n",
        "    for i, state in enumerate(states):\n",
        "      action = policy[i]\n",
        "      for j, next_state in enumerate(states):\n",
        "        if action != next_state[0]: continue    # only iterate over states with same action (possible transitions)\n",
        "        V[i] += eval_total_transition_P(state, next_state, trans_prob)\\\n",
        "                 * (eval_reward(state, next_state, immediate_rewards, fee) + gamma * prev_V[j])\n",
        "    if np.max(np.abs(prev_V - V)) < epsilon:\n",
        "      break\n",
        "    prev_V = V.copy()\n",
        "    # print(V)\n",
        "  V = np.round(V, 7)\n",
        "  return V\n",
        "\n",
        "\n",
        "def improve_policy(V, states, trans_prob, immediate_rewards, fee, gamma):\n",
        "  '''Returns a better policy given a state-value function and the model'''\n",
        "  actions = int((states.shape[1]) - 1)\n",
        "  Q = np.zeros((len(states), actions))    # action-value function with the 2 possible actions for each state\n",
        "  for i, state in enumerate(states):\n",
        "    for action in range(actions):\n",
        "      for j, next_state in enumerate(states):\n",
        "        if action != next_state[0]: continue\n",
        "        Q[i, action] += eval_total_transition_P(state, next_state, trans_prob)\\\n",
        "                       * (eval_reward(state, next_state, immediate_rewards, fee) + gamma * V[j])\n",
        "    # print(Q)\n",
        "  new_policy = np.argmax(Q, axis=1)\n",
        "  return new_policy\n",
        "\n",
        "\n",
        "def policy_iteration(states, trans_prob, immediate_rewards, fee, gamma):\n",
        "  '''Alternates between evaluation and improvement to find the optimal policy'''\n",
        "  # policy = np.random.choice([0, 1], size=len(possible_states))\n",
        "  policy = np.random.randint(0, N, size=len(possible_states))\n",
        "  t = 0   # number of policy improvements\n",
        "  while True:\n",
        "    V = evaluate_policy(policy, states, trans_prob, immediate_rewards, fee, gamma)\n",
        "    improved_policy = improve_policy(V, states, trans_prob, immediate_rewards, fee, gamma)\n",
        "    if np.all(policy == improved_policy):   # convergence check\n",
        "      break\n",
        "    t += 1\n",
        "    # print(f\"{policy} ---> {improved_policy}\")\n",
        "    policy = improved_policy\n",
        "\n",
        "  optimal_policy = policy\n",
        "  return optimal_policy, t"
      ],
      "metadata": {
        "id": "CFEBn2ZevJs_"
      },
      "execution_count": null,
      "outputs": []
    },
    {
      "cell_type": "code",
      "source": [
        "# optimal_policy, t = policy_iteration(possible_states, probabilities, rewards, fee=0.01, gamma=0.9)\n",
        "# print(f\"The optimal policy is: {optimal_policy}\")\n",
        "# print(f\"Iterations for convergence: {t}\")"
      ],
      "metadata": {
        "id": "b_26Z1xeNxsU"
      },
      "execution_count": null,
      "outputs": []
    },
    {
      "cell_type": "code",
      "source": [
        "N = 4\n",
        "np.random.randint(0, N, size=N)"
      ],
      "metadata": {
        "colab": {
          "base_uri": "https://localhost:8080/"
        },
        "id": "AZ3godz2ysYe",
        "outputId": "30610bb9-4dfd-4328-8410-79f7472f7b00"
      },
      "execution_count": null,
      "outputs": [
        {
          "output_type": "execute_result",
          "data": {
            "text/plain": [
              "array([0, 2, 3, 3])"
            ]
          },
          "metadata": {},
          "execution_count": 6
        }
      ]
    },
    {
      "cell_type": "markdown",
      "source": [
        "###Questions 1 & 2 (small scale)"
      ],
      "metadata": {
        "id": "CnTtm25OcVxy"
      }
    },
    {
      "cell_type": "code",
      "source": [
        "possible_states = generate_possible_states(N=2)\n",
        "\n",
        "print(\"Possible states\")\n",
        "for i, row in enumerate(possible_states):\n",
        "  print(f\"S_{i}:  {row}\")"
      ],
      "metadata": {
        "colab": {
          "base_uri": "https://localhost:8080/"
        },
        "id": "QbSv53Tbrg0s",
        "outputId": "4a112f05-06d3-4d15-889a-4e691ae6d465"
      },
      "execution_count": null,
      "outputs": [
        {
          "output_type": "stream",
          "name": "stdout",
          "text": [
            "Possible states\n",
            "S_0:  [0. 0. 0.]\n",
            "S_1:  [0. 0. 1.]\n",
            "S_2:  [0. 1. 0.]\n",
            "S_3:  [0. 1. 1.]\n",
            "S_4:  [1. 0. 0.]\n",
            "S_5:  [1. 0. 1.]\n",
            "S_6:  [1. 1. 0.]\n",
            "S_7:  [1. 1. 1.]\n"
          ]
        }
      ]
    },
    {
      "cell_type": "markdown",
      "source": [
        "* Scenario 1 (always stay)"
      ],
      "metadata": {
        "id": "a_iEvoSpsMh_"
      }
    },
    {
      "cell_type": "code",
      "source": [
        "np.random.seed(42)\n",
        "\n",
        "N = 2\n",
        "rewards, probabilities, init_state = make_environment(N, [-0.15, 0.15])\n",
        "\n",
        "# environment parameters\n",
        "rewards[0, 1] = 2 * rewards[1, 1]\n",
        "fee = 0.13\n",
        "gamma = 0\n",
        "\n",
        "possible_states = generate_possible_states(N)\n",
        "rewards_df = pd.DataFrame(rewards, columns=['L', 'H'])\n",
        "probabilities_df = pd.DataFrame(probabilities, columns=['p_HH', 'p_HL', 'p_LL', 'p_LH'])\n",
        "\n",
        "\n",
        "print(17*'--')\n",
        "print(\"Immediate rewards\")\n",
        "print(rewards_df)\n",
        "print(f\"(Transaction fee = {100*fee:.0f}%)\")\n",
        "print(17*'--')\n",
        "print(\"Transition probabilities\")\n",
        "print(probabilities_df)\n",
        "\n",
        "\n",
        "optimal_policy, t = policy_iteration(possible_states, probabilities, rewards, fee, gamma)\n",
        "print(f\"The optimal policy is: {optimal_policy}\")\n",
        "print(f\"Iterations for convergence: {t}\")"
      ],
      "metadata": {
        "colab": {
          "base_uri": "https://localhost:8080/"
        },
        "id": "vKo0p6kcc-jj",
        "outputId": "cba32136-420b-4e03-dd5c-4be70abb3307"
      },
      "execution_count": null,
      "outputs": [
        {
          "output_type": "stream",
          "name": "stdout",
          "text": [
            "----------------------------------\n",
            "Immediate rewards\n",
            "        L       H\n",
            "0 -0.0376  0.2354\n",
            "1  0.0696  0.1177\n",
            "(Transaction fee = 13%)\n",
            "----------------------------------\n",
            "Transition probabilities\n",
            "     p_HH    p_HL    p_LL    p_LH\n",
            "0  0.1560  0.8440  0.1560  0.8440\n",
            "1  0.0581  0.9419  0.8662  0.1338\n",
            "The optimal policy is: [0 0 0 0 1 1 1 1]\n",
            "Iterations for convergence: 1\n"
          ]
        }
      ]
    },
    {
      "cell_type": "markdown",
      "source": [
        "* Scenario 2 (switch in some states)"
      ],
      "metadata": {
        "id": "4PxhWiEosPbE"
      }
    },
    {
      "cell_type": "code",
      "source": [
        "np.random.seed(42)\n",
        "\n",
        "N = 2\n",
        "rewards, probabilities, init_state = make_environment(N, [-0.15, 0.15])\n",
        "\n",
        "# environment parameters\n",
        "rewards[0, 1] = 2 * rewards[1, 1]\n",
        "fee = 0.01\n",
        "gamma = 0.9\n",
        "\n",
        "possible_states = generate_possible_states(N)\n",
        "rewards_df = pd.DataFrame(rewards, columns=['L', 'H'])\n",
        "probabilities_df = pd.DataFrame(probabilities, columns=['p_HH', 'p_HL', 'p_LL', 'p_LH'])\n",
        "\n",
        "\n",
        "print(17*'--')\n",
        "print(\"Immediate rewards\")\n",
        "print(rewards_df)\n",
        "print(f\"(Transaction fee = {100*fee:.0f}%)\")\n",
        "print(17*'--')\n",
        "print(\"Transition probabilities\")\n",
        "print(probabilities_df)\n",
        "\n",
        "\n",
        "optimal_policy, t = policy_iteration(possible_states, probabilities, rewards, fee, gamma)\n",
        "print(f\"The optimal policy is: {optimal_policy}\")\n",
        "print(f\"Iterations for convergence: {t}\")"
      ],
      "metadata": {
        "colab": {
          "base_uri": "https://localhost:8080/"
        },
        "id": "iaahETDtsVAQ",
        "outputId": "326a0308-baea-4077-f955-3d4bbd11b200"
      },
      "execution_count": null,
      "outputs": [
        {
          "output_type": "stream",
          "name": "stdout",
          "text": [
            "----------------------------------\n",
            "Immediate rewards\n",
            "        L       H\n",
            "0 -0.0376  0.2354\n",
            "1  0.0696  0.1177\n",
            "(Transaction fee = 1%)\n",
            "----------------------------------\n",
            "Transition probabilities\n",
            "     p_HH    p_HL    p_LL    p_LH\n",
            "0  0.1560  0.8440  0.1560  0.8440\n",
            "1  0.0581  0.9419  0.8662  0.1338\n",
            "The optimal policy is: [0 0 1 1 0 0 1 1]\n",
            "Iterations for convergence: 1\n"
          ]
        }
      ]
    },
    {
      "cell_type": "code",
      "source": [
        "# check if this is indeed the optimal policy\n",
        "curr = possible_states[2]\n",
        "good = eval_expected_reward(curr, 1, probabilities, rewards)\n",
        "bad = eval_expected_reward(curr, 0, probabilities, rewards)\n",
        "print(f'good is {good:.3f}, bad is {bad:.3f}')"
      ],
      "metadata": {
        "colab": {
          "base_uri": "https://localhost:8080/"
        },
        "id": "DX4TEnJ0tI6G",
        "outputId": "429d6bdf-7eb8-42e3-f16b-26600578c94a"
      },
      "execution_count": null,
      "outputs": [
        {
          "output_type": "stream",
          "name": "stdout",
          "text": [
            "good is 0.066, bad is 0.005\n"
          ]
        }
      ]
    },
    {
      "cell_type": "markdown",
      "source": [
        "###Question 3 (larger scale)"
      ],
      "metadata": {
        "id": "FbHp5ayA_3Qd"
      }
    },
    {
      "cell_type": "code",
      "source": [
        "np.random.seed(42)\n",
        "\n",
        "N = 7\n",
        "rewards, probabilities, init_state = make_environment(N, [-0.02, 0.1])\n",
        "h = N // 2\n",
        "for i, row in enumerate(probabilities):\n",
        "  if i <= h:\n",
        "    probabilities[i] = [0.9, 0.1, 0.9, 0.1]\n",
        "  else:\n",
        "    probabilities[i] = [0.5, 0.5, 0.5, 0.5]\n",
        "\n",
        "possible_states = generate_possible_states(N)\n",
        "\n",
        "rewards_df = pd.DataFrame(rewards, columns=['L', 'H'])\n",
        "probabilities_df = pd.DataFrame(probabilities, columns=['p_HH', 'p_HL', 'p_LL', 'p_LH'])\n",
        "\n",
        "print(17*'--')\n",
        "print(\"Immediate rewards\")\n",
        "print(rewards_df)\n",
        "print(\"(Transaction fee = 0.01)\")\n",
        "print(17*'--')\n",
        "print(\"Transition probabilities\")\n",
        "print(probabilities_df)\n",
        "print(17*'--')\n",
        "print(f\"Number of states = {possible_states.shape[0]}\")"
      ],
      "metadata": {
        "colab": {
          "base_uri": "https://localhost:8080/"
        },
        "id": "HbQxZRPh_5Wy",
        "outputId": "e08716c4-db3f-415b-dced-b9abb1dc3544"
      },
      "execution_count": null,
      "outputs": [
        {
          "output_type": "stream",
          "name": "stdout",
          "text": [
            "----------------------------------\n",
            "Immediate rewards\n",
            "        L       H\n",
            "0  0.0249  0.0963\n",
            "1  0.0678  0.0871\n",
            "2 -0.0013  0.0145\n",
            "3 -0.0130  0.0849\n",
            "4  0.0521  0.0860\n",
            "5 -0.0175  0.0965\n",
            "6  0.0799  0.0842\n",
            "(Transaction fee = 0.01)\n",
            "----------------------------------\n",
            "Transition probabilities\n",
            "   p_HH  p_HL  p_LL  p_LH\n",
            "0   0.9   0.1   0.9   0.1\n",
            "1   0.9   0.1   0.9   0.1\n",
            "2   0.9   0.1   0.9   0.1\n",
            "3   0.9   0.1   0.9   0.1\n",
            "4   0.5   0.5   0.5   0.5\n",
            "5   0.5   0.5   0.5   0.5\n",
            "6   0.5   0.5   0.5   0.5\n",
            "----------------------------------\n",
            "Number of states = 896\n"
          ]
        }
      ]
    },
    {
      "cell_type": "code",
      "source": [
        "import time\n",
        "start = time.time()\n",
        "np.random.seed(42)\n",
        "\n",
        "fee = 0.01\n",
        "gamma = 0.9\n",
        "\n",
        "policy_large, t = policy_iteration(possible_states, probabilities, rewards, fee, gamma)\n",
        "print(f\"The optimal policy is: {policy_large}\")\n",
        "print(f\"Iterations for convergence: {t}\")\n",
        "\n",
        "end = time.time()\n",
        "time = end - start\n",
        "print(f\"Time: {round(time, 2)}s\")"
      ],
      "metadata": {
        "id": "Lx737EenErUF",
        "collapsed": true
      },
      "execution_count": null,
      "outputs": []
    },
    {
      "cell_type": "code",
      "source": [
        "# policy of PI for N=7 terminated in 27m\n",
        "PI_result = '6 6 6 6 6 6 6 6 6 6 6 6 6 6 6 6 6 6 6 6 6 6 6 6 6 6 6 6 6 6 6 6 1 1 1 1 1\\\n",
        " 1 1 1 1 1 1 1 1 1 1 1 1 1 1 1 1 1 1 1 1 1 1 1 1 1 1 1 0 0 0 0 0 0 0 0 0 0\\\n",
        " 0 0 0 0 0 0 0 0 0 0 0 0 0 0 0 0 0 0 0 0 0 0 0 0 0 0 0 0 0 0 0 0 0 0 0 0 0\\\n",
        " 0 0 0 0 0 0 0 0 0 0 0 0 0 0 0 0 0 6 6 6 6 6 6 6 6 6 6 6 6 6 6 6 6 6 6 6 6\\\n",
        " 6 6 6 6 6 6 6 6 6 6 6 6 1 1 1 1 1 1 1 1 1 1 1 1 1 1 1 1 1 1 1 1 1 1 1 1 1\\\n",
        " 1 1 1 1 1 1 1 0 0 0 0 0 0 0 0 0 0 0 0 0 0 0 0 0 0 0 0 0 0 0 0 0 0 0 0 0 0\\\n",
        " 0 0 0 0 0 0 0 0 0 0 0 0 0 0 0 0 0 0 0 0 0 0 0 0 0 0 0 0 0 0 0 0 0 0 6 6 6\\\n",
        " 6 6 6 6 6 6 6 6 6 6 6 6 6 6 6 6 6 6 6 6 6 6 6 6 6 6 6 6 6 1 1 1 1 1 1 1 1\\\n",
        " 1 1 1 1 1 1 1 1 1 1 1 1 1 1 1 1 1 1 1 1 1 1 1 1 0 0 0 0 0 0 0 0 0 0 0 0 0\\\n",
        " 0 0 0 0 0 0 0 0 0 0 0 0 0 0 0 0 0 0 0 0 0 0 0 0 0 0 0 0 0 0 0 0 0 0 0 0 0\\\n",
        " 0 0 0 0 0 0 0 0 0 0 0 0 0 0 6 6 6 6 6 6 6 6 6 6 6 6 6 6 6 6 6 6 6 6 6 6 6\\\n",
        " 6 6 6 6 6 6 6 6 6 1 1 1 1 1 1 1 1 1 1 1 1 1 1 1 1 1 1 1 1 1 1 1 1 1 1 1 1\\\n",
        " 1 1 1 1 0 0 0 0 0 0 0 0 0 0 0 0 0 0 0 0 0 0 0 0 0 0 0 0 0 0 0 0 0 0 0 0 0\\\n",
        " 0 0 0 0 0 0 0 0 0 0 0 0 0 0 0 0 0 0 0 0 0 0 0 0 0 0 0 0 0 0 0 6 6 6 6 6 6\\\n",
        " 6 6 6 6 6 6 6 6 6 6 6 6 6 6 6 6 6 6 6 6 6 6 6 6 6 6 1 1 1 1 1 1 1 1 1 1 1\\\n",
        " 1 1 1 1 1 1 1 1 1 1 1 1 1 1 1 1 1 1 1 1 1 0 0 0 0 0 0 0 0 0 0 0 0 0 0 0 0\\\n",
        " 0 0 0 0 0 0 0 0 0 0 0 0 0 0 0 0 0 0 0 0 0 0 0 0 0 0 0 0 0 0 0 0 0 0 0 0 0\\\n",
        " 0 0 0 0 0 0 0 0 0 0 0 6 6 6 6 6 6 6 6 6 6 6 6 6 6 6 6 6 6 6 6 6 6 6 6 6 6\\\n",
        " 6 6 6 6 6 6 1 1 1 1 1 1 1 1 1 1 1 1 1 1 1 1 1 1 1 1 1 1 1 1 1 1 1 1 1 1 1\\\n",
        " 1 0 0 0 0 0 0 0 0 0 0 0 0 0 0 0 0 0 0 0 0 0 0 0 0 0 0 0 0 0 0 0 0 0 0 0 0\\\n",
        " 0 0 0 0 0 0 0 0 0 0 0 0 0 0 0 0 0 0 0 0 0 0 0 0 0 0 0 0 6 6 6 6 6 6 6 6 6\\\n",
        " 6 6 6 6 6 6 6 6 6 6 6 6 6 6 6 6 6 6 6 6 6 6 6 6 6 6 6 6 6 6 6 6 6 6 6 6 6\\\n",
        " 6 6 6 6 6 6 6 6 6 6 6 6 6 6 6 6 6 6 0 0 0 0 0 0 0 0 0 0 0 0 0 0 0 0 0 0 0\\\n",
        " 0 0 0 0 0 0 0 0 0 0 0 0 0 0 0 0 0 0 0 0 0 0 0 0 0 0 0 0 0 0 0 0 0 0 0 0 0\\\n",
        " 0 0 0 0 0 0 0 0'\n",
        "\n",
        "number_strings = PI_result.split()\n",
        "numbers_list = [int(num) for num in number_strings]\n",
        "policy_large = np.array(numbers_list)"
      ],
      "metadata": {
        "id": "tFUlKKjftpH8"
      },
      "execution_count": null,
      "outputs": []
    },
    {
      "cell_type": "code",
      "source": [
        "import numpy as np\n",
        "import matplotlib.pyplot as plt\n",
        "from sklearn.linear_model import LinearRegression\n",
        "from sklearn.metrics import mean_squared_error\n",
        "\n",
        "# data points\n",
        "stocks = np.array([2, 3, 4, 5, 6, 7, 8])\n",
        "times = np.array([0.07, 0.34, 1.22, 10.86, 72.96, 281.09, 1868.51])\n",
        "\n",
        "# reshaping into column for use in sklearn\n",
        "stocks = stocks.reshape(-1, 1)\n",
        "\n",
        "# transform the times data using the natural logarithm\n",
        "log_times = np.log(times)\n",
        "\n",
        "# fit a linear regression model to the transformed data\n",
        "model = LinearRegression()\n",
        "model.fit(stocks, log_times)\n",
        "\n",
        "# generate x values for the trend line\n",
        "x = np.linspace(2, 16, 100).reshape(-1, 1)\n",
        "\n",
        "# predict the log-transformed y values\n",
        "log_y_pred = model.predict(x)\n",
        "\n",
        "# transform the predictions back to the original scale\n",
        "y_pred = np.exp(log_y_pred)\n",
        "\n",
        "plt.scatter(stocks, times, color='red', label='observations')\n",
        "plt.plot(x, y_pred, color='teal', label='regression line', linewidth=1, alpha=0.9)\n",
        "plt.xlabel('Number of Stocks')\n",
        "plt.ylabel('Time (s)')\n",
        "plt.suptitle('Policy Iteration: Runtime vs. Number of Stocks', fontsize=12)\n",
        "plt.title(r'$\\gamma=0.6,\\ transaction fee=0.01$', fontsize=10)\n",
        "plt.legend(fontsize='9')\n",
        "plt.grid(True, linestyle='--', alpha=0.8)\n",
        "plt.ylim(-100, 3600)\n",
        "plt.xlim(2, 10)\n",
        "plt.show()\n",
        "\n",
        "# evaluate the model\n",
        "y_pred_train = np.exp(model.predict(stocks))\n",
        "mse = mean_squared_error(times, y_pred_train)\n",
        "print(f'Mean Squared Error: {mse:.2f}')"
      ],
      "metadata": {
        "colab": {
          "base_uri": "https://localhost:8080/",
          "height": 514
        },
        "id": "rHy_SDHJlLaL",
        "outputId": "712b7e79-3882-431c-af7a-b572c5551b29"
      },
      "execution_count": null,
      "outputs": [
        {
          "output_type": "display_data",
          "data": {
            "text/plain": [
              "<Figure size 640x480 with 1 Axes>"
            ],
            "image/png": "[encoded data removed]"
          },
          "metadata": {}
        },
        {
          "output_type": "stream",
          "name": "stdout",
          "text": [
            "Mean Squared Error: 1402.12\n"
          ]
        }
      ]
    },
    {
      "cell_type": "code",
      "source": [
        "def predict_runtime(N):\n",
        "    log_time_pred = model.predict(np.array([[N]]))\n",
        "    time_pred = np.exp(log_time_pred)\n",
        "    return time_pred[0]\n",
        "\n",
        "# predict the target for N = 10\n",
        "N = 9\n",
        "predicted_time = predict_runtime(N)\n",
        "print(f'Predicted time for {N} stocks: {predicted_time:.2f} seconds')"
      ],
      "metadata": {
        "id": "YRHsCZe6Oy2n"
      },
      "execution_count": null,
      "outputs": []
    },
    {
      "cell_type": "markdown",
      "source": [
        "#⏩Phase II : RL & Deep-RL"
      ],
      "metadata": {
        "id": "j8qK2gnC4u2O"
      }
    },
    {
      "cell_type": "markdown",
      "source": [
        "##🔹Q-learning"
      ],
      "metadata": {
        "id": "hPG7qxyRK390"
      }
    },
    {
      "cell_type": "code",
      "source": [
        "def initialize_Q_table(num_states, actions):\n",
        "  return np.zeros((num_states, actions))\n",
        "\n",
        "\n",
        "def decide_action(state_index, Q_table, epsilon, actions):\n",
        "    '''e-Greedy action selection'''\n",
        "    if np.random.rand() < epsilon:\n",
        "        # explore: choose a random action\n",
        "        action = np.random.randint(actions)\n",
        "    else:\n",
        "        # exploit: choose the action with the highest Q-value for the current state\n",
        "        action = np.argmax(Q_table[state_index])\n",
        "    return action\n",
        "\n",
        "\n",
        "def deploy_Q_learning(states, actions, R, P, fee, num_episodes, horizon, gamma, alpha, epsilon, decay_rate):\n",
        "    '''Main algorithm for learning the Q table'''\n",
        "    Q_table = initialize_Q_table(len(states), actions)\n",
        "\n",
        "    for episode in range(num_episodes):\n",
        "        state_index = int(np.random.choice(len(states)))\n",
        "        state = states[state_index]  # pick an initial state\n",
        "        # print(f'\\nEPISODE {episode}')\n",
        "\n",
        "        for step in range(horizon):\n",
        "            action = decide_action(state_index, Q_table, epsilon, actions)\n",
        "            next_state = make_next_state(state, action, P)\n",
        "            reward = eval_reward(state, next_state, R, fee)\n",
        "            # print(f'Starting from {state}, action {action} gets us to {next_state} with reward {reward}')\n",
        "\n",
        "            # Q-learning update\n",
        "            best_action = np.argmax(Q_table[state_index])\n",
        "            td_target = reward + gamma * Q_table[state_index, best_action]\n",
        "            td_error = td_target - Q_table[state_index, action]\n",
        "            Q_table[state_index, action] += alpha * td_error\n",
        "            state = next_state\n",
        "            state_index = int(np.where((states == next_state).all(axis=1))[0][0])\n",
        "\n",
        "        # reduce exploration over time\n",
        "        epsilon *= decay_rate\n",
        "    return Q_table\n",
        "\n",
        "\n",
        "def extract_optimal_policy(Q_table):\n",
        "    num_states = int(Q_table.shape[0])\n",
        "    actions = int(Q_table.shape[1])\n",
        "    policy = np.zeros((num_states), dtype=int)\n",
        "    for state_index in range(num_states):\n",
        "        best_action = np.argmax(Q_table[state_index])\n",
        "        policy[state_index] = best_action\n",
        "    return policy"
      ],
      "metadata": {
        "id": "LpEVwDMI5Fy8"
      },
      "execution_count": null,
      "outputs": []
    },
    {
      "cell_type": "markdown",
      "source": [
        "###Task 1 (small scale)"
      ],
      "metadata": {
        "id": "3F_Cx4lPl6id"
      }
    },
    {
      "cell_type": "markdown",
      "source": [
        "* Scenario 1 (always stay)"
      ],
      "metadata": {
        "id": "FxYcW51R5YY6"
      }
    },
    {
      "cell_type": "code",
      "source": [
        "np.random.seed(42)\n",
        "\n",
        "N = 2\n",
        "R, P, init_state = make_environment(N, [-0.15, 0.15])\n",
        "\n",
        "# environment parameters\n",
        "R[0, 1] = 2 * R[1, 1]\n",
        "fee = 0.13\n",
        "gamma = 0\n",
        "\n",
        "possible_states = generate_possible_states(N)\n",
        "rewards_df = pd.DataFrame(R, columns=['L', 'H'])\n",
        "probabilities_df = pd.DataFrame(P, columns=['p_HH', 'p_HL', 'p_LL', 'p_LH'])\n",
        "\n",
        "\n",
        "print(17*'--')\n",
        "print(\"Immediate rewards\")\n",
        "print(rewards_df)\n",
        "print(f\"(Transaction fee = {100*fee:.0f}%)\")\n",
        "print(17*'--')\n",
        "print(\"Transition probabilities\")\n",
        "print(probabilities_df)"
      ],
      "metadata": {
        "colab": {
          "base_uri": "https://localhost:8080/"
        },
        "id": "MsWcQVzU5VwT",
        "outputId": "ecaa97d4-25b4-4a99-df72-251dcf8243f3"
      },
      "execution_count": null,
      "outputs": [
        {
          "output_type": "stream",
          "name": "stdout",
          "text": [
            "----------------------------------\n",
            "Immediate rewards\n",
            "        L       H\n",
            "0 -0.0376  0.2354\n",
            "1  0.0696  0.1177\n",
            "(Transaction fee = 13%)\n",
            "----------------------------------\n",
            "Transition probabilities\n",
            "     p_HH    p_HL    p_LL    p_LH\n",
            "0  0.1560  0.8440  0.1560  0.8440\n",
            "1  0.0581  0.9419  0.8662  0.1338\n"
          ]
        }
      ]
    },
    {
      "cell_type": "code",
      "source": [
        "import time\n",
        "start = time.time()\n",
        "\n",
        "# Q-learning parameters\n",
        "episodes = 100\n",
        "horizon = 100\n",
        "alpha = 0.1\n",
        "epsilon = 1\n",
        "decay_rate = 0.9\n",
        "\n",
        "Q_table = deploy_Q_learning(possible_states, N, R, P, fee, episodes, horizon, gamma, alpha, epsilon, decay_rate)\n",
        "optimal_policy = extract_optimal_policy(Q_table)\n",
        "\n",
        "end = time.time()\n",
        "time = end - start\n",
        "\n",
        "print(\"Q-learning results\")\n",
        "print(20*'--')\n",
        "print(f\"The optimal policy is: {optimal_policy}\")\n",
        "print(f\"Runtime: {round(time, 2)}s\")"
      ],
      "metadata": {
        "colab": {
          "base_uri": "https://localhost:8080/"
        },
        "id": "Wqbqa9WX8Vo7",
        "outputId": "20f9d623-04ab-4d4f-f12c-170f09425c01"
      },
      "execution_count": null,
      "outputs": [
        {
          "output_type": "stream",
          "name": "stdout",
          "text": [
            "Q-learning results\n",
            "----------------------------------------\n",
            "The optimal policy is: [0 0 0 0 1 1 1 1]\n",
            "Runtime: 1.14s\n"
          ]
        }
      ]
    },
    {
      "cell_type": "markdown",
      "source": [
        "* Scenario 2 (switch in some states)"
      ],
      "metadata": {
        "id": "G9s4PLnNvecn"
      }
    },
    {
      "cell_type": "code",
      "source": [
        "np.random.seed(42)\n",
        "\n",
        "N = 2\n",
        "R, P, init_state = make_environment(N, [-0.15, 0.15])\n",
        "\n",
        "# environment parameters\n",
        "R[0, 1] = 2 * R[1, 1]\n",
        "fee = 0.01\n",
        "gamma = 0.9\n",
        "\n",
        "possible_states = generate_possible_states(N)\n",
        "rewards_df = pd.DataFrame(R, columns=['L', 'H'])\n",
        "probabilities_df = pd.DataFrame(P, columns=['p_HH', 'p_HL', 'p_LL', 'p_LH'])\n",
        "\n",
        "\n",
        "print(17*'--')\n",
        "print(\"Immediate rewards\")\n",
        "print(rewards_df)\n",
        "print(f\"(Transaction fee = {100*fee:.0f}%)\")\n",
        "print(17*'--')\n",
        "print(\"Transition probabilities\")\n",
        "print(probabilities_df)"
      ],
      "metadata": {
        "colab": {
          "base_uri": "https://localhost:8080/"
        },
        "id": "JZaiWiSLvd7H",
        "outputId": "ba049b02-033f-4283-bf15-3cf1552cd816"
      },
      "execution_count": null,
      "outputs": [
        {
          "output_type": "stream",
          "name": "stdout",
          "text": [
            "----------------------------------\n",
            "Immediate rewards\n",
            "        L       H\n",
            "0 -0.0376  0.2354\n",
            "1  0.0696  0.1177\n",
            "(Transaction fee = 1%)\n",
            "----------------------------------\n",
            "Transition probabilities\n",
            "     p_HH    p_HL    p_LL    p_LH\n",
            "0  0.1560  0.8440  0.1560  0.8440\n",
            "1  0.0581  0.9419  0.8662  0.1338\n"
          ]
        }
      ]
    },
    {
      "cell_type": "code",
      "source": [
        "import time\n",
        "start = time.time()\n",
        "\n",
        "# Q-learning parameters\n",
        "episodes = 100\n",
        "horizon = 100\n",
        "alpha = 0.1\n",
        "epsilon = 1\n",
        "decay_rate = 0.9\n",
        "\n",
        "Q_table = deploy_Q_learning(possible_states, N, R, P, fee, episodes, horizon, gamma, alpha, epsilon, decay_rate)\n",
        "optimal_policy = extract_optimal_policy(Q_table)\n",
        "\n",
        "end = time.time()\n",
        "time = end - start\n",
        "\n",
        "print(\"Q-learning results\")\n",
        "print(20*'--')\n",
        "print(f\"The optimal policy is: {optimal_policy}\")\n",
        "print(f\"Runtime: {round(time, 2)}s\")"
      ],
      "metadata": {
        "colab": {
          "base_uri": "https://localhost:8080/"
        },
        "id": "ev6XZ2X_v8cK",
        "outputId": "1c9f709a-5a44-45ed-f7a2-f75ee656da49"
      },
      "execution_count": null,
      "outputs": [
        {
          "output_type": "stream",
          "name": "stdout",
          "text": [
            "Q-learning results\n",
            "----------------------------------------\n",
            "The optimal policy is: [0 0 1 1 0 0 1 1]\n",
            "Runtime: 1.1s\n"
          ]
        }
      ]
    },
    {
      "cell_type": "markdown",
      "source": [
        "###Task 2 (larger scale)"
      ],
      "metadata": {
        "id": "mGFRGKWk16qw"
      }
    },
    {
      "cell_type": "code",
      "source": [
        "np.random.seed(42)\n",
        "\n",
        "# environment parameters\n",
        "N = 7\n",
        "R, P, _ = make_environment(N, [-0.02, 0.1])\n",
        "h = N // 2\n",
        "for i, row in enumerate(P):\n",
        "  if i <= h:\n",
        "    P[i] = [0.9, 0.1, 0.9, 0.1]\n",
        "  else:\n",
        "    P[i] = [0.5, 0.5, 0.5, 0.5]\n",
        "\n",
        "fee = 0.01\n",
        "gamma = 0.9\n",
        "\n",
        "possible_states = generate_possible_states(N)\n",
        "rewards_df = pd.DataFrame(R, columns=['L', 'H'])\n",
        "probabilities_df = pd.DataFrame(P, columns=['p_HH', 'p_HL', 'p_LL', 'p_LH'])\n",
        "\n",
        "print(17*'--')\n",
        "print(\"Immediate rewards\")\n",
        "print(rewards_df)\n",
        "print(f\"(Transaction fee = {100*fee:.0f}%)\")\n",
        "print(17*'--')\n",
        "print(\"Transition probabilities\")\n",
        "print(probabilities_df)\n",
        "print(17*'--')\n",
        "print(f\"Number of states = {possible_states.shape[0]}\")"
      ],
      "metadata": {
        "colab": {
          "base_uri": "https://localhost:8080/"
        },
        "id": "iv7DJ1Ma9psR",
        "outputId": "3dd210d0-f968-4bbb-9595-c5b9c551f5f0"
      },
      "execution_count": null,
      "outputs": [
        {
          "output_type": "stream",
          "name": "stdout",
          "text": [
            "----------------------------------\n",
            "Immediate rewards\n",
            "        L       H\n",
            "0  0.0249  0.0963\n",
            "1  0.0678  0.0871\n",
            "2 -0.0013  0.0145\n",
            "3 -0.0130  0.0849\n",
            "4  0.0521  0.0860\n",
            "5 -0.0175  0.0965\n",
            "6  0.0799  0.0842\n",
            "(Transaction fee = 1%)\n",
            "----------------------------------\n",
            "Transition probabilities\n",
            "   p_HH  p_HL  p_LL  p_LH\n",
            "0   0.9   0.1   0.9   0.1\n",
            "1   0.9   0.1   0.9   0.1\n",
            "2   0.9   0.1   0.9   0.1\n",
            "3   0.9   0.1   0.9   0.1\n",
            "4   0.5   0.5   0.5   0.5\n",
            "5   0.5   0.5   0.5   0.5\n",
            "6   0.5   0.5   0.5   0.5\n",
            "----------------------------------\n",
            "Number of states = 896\n"
          ]
        }
      ]
    },
    {
      "cell_type": "code",
      "source": [
        "import time\n",
        "start = time.time()\n",
        "np.random.seed(42)\n",
        "\n",
        "# Q-learning parameters\n",
        "episodes = 100\n",
        "horizon = 10000\n",
        "alpha = 0.1\n",
        "epsilon = 1\n",
        "decay_rate = 0.9\n",
        "\n",
        "Q_table = deploy_Q_learning(possible_states, N, R, P, fee, episodes, horizon, gamma, alpha, epsilon, decay_rate)\n",
        "policy_large_Q = extract_optimal_policy(Q_table)\n",
        "\n",
        "end = time.time()\n",
        "time = end - start\n",
        "\n",
        "print(\"Q-learning results\")\n",
        "print(20*'--')\n",
        "print(f\"The optimal policy is: {policy_large_Q}\")\n",
        "print(f\"Runtime: {round(time, 2)}s\")"
      ],
      "metadata": {
        "collapsed": true,
        "id": "DJG2moFQ_kZO",
        "colab": {
          "base_uri": "https://localhost:8080/"
        },
        "outputId": "6934ab09-3ed9-4168-b965-f9b19fd82ed7"
      },
      "execution_count": null,
      "outputs": [
        {
          "output_type": "stream",
          "name": "stdout",
          "text": [
            "Q-learning results\n",
            "----------------------------------------\n",
            "The optimal policy is: [4 4 1 6 1 4 6 6 6 3 3 3 6 6 6 1 1 0 4 6 1 4 6 6 3 4 3 1 3 6 6 6 4 1 1 1 6\n",
            " 1 1 6 6 6 6 6 3 1 1 6 1 1 4 6 1 1 6 6 3 6 1 4 6 3 1 6 4 0 6 1 0 0 4 1 3 4\n",
            " 0 0 3 0 3 6 6 1 6 0 1 1 4 1 0 6 0 3 6 6 1 6 1 0 6 1 1 0 4 0 1 1 3 6 1 3 3\n",
            " 1 0 0 0 0 0 0 1 1 1 0 6 0 1 4 0 3 1 1 6 1 4 1 6 4 6 3 4 4 3 6 6 4 6 4 5 1\n",
            " 1 1 4 6 4 1 4 6 3 1 4 6 1 1 1 6 1 1 6 6 1 3 6 6 1 1 3 6 4 6 6 1 6 4 6 4 6\n",
            " 6 1 1 1 1 1 6 6 0 1 0 6 6 6 0 1 1 0 3 1 6 1 6 4 0 0 0 6 0 0 0 0 4 1 6 3 3\n",
            " 3 6 1 0 4 1 0 4 6 0 3 1 1 0 1 3 4 4 1 1 1 0 4 6 1 0 4 1 3 1 0 1 1 1 4 6 1\n",
            " 6 4 6 6 6 6 6 6 4 6 1 4 3 1 4 6 6 6 6 4 6 6 6 1 1 1 4 6 4 6 4 1 1 6 6 4 4\n",
            " 3 6 1 1 1 3 3 3 4 6 6 6 1 4 1 1 4 4 4 6 1 1 1 3 0 6 6 1 1 1 6 1 4 4 6 0 6\n",
            " 0 6 0 0 0 4 6 6 1 6 6 0 0 1 0 4 0 4 6 6 1 1 1 0 1 0 6 4 6 6 6 6 4 1 6 1 1\n",
            " 0 1 6 4 6 1 6 0 0 0 1 1 0 0 6 6 6 6 6 6 1 6 3 6 3 4 3 4 6 6 6 6 4 1 5 6 1\n",
            " 1 3 4 3 6 6 1 1 3 1 4 4 1 4 6 5 4 1 1 3 3 6 3 4 1 1 1 1 1 6 1 6 1 6 4 3 4\n",
            " 1 6 6 1 6 6 0 6 0 0 1 0 6 4 3 3 6 6 0 0 0 4 6 4 6 4 6 0 0 3 0 6 1 0 3 0 0\n",
            " 1 1 6 6 0 1 6 6 3 0 6 1 0 3 3 4 1 0 0 0 0 1 0 1 3 6 3 1 6 3 6 1 6 4 4 6 6\n",
            " 6 4 6 3 6 3 6 4 3 3 6 6 6 6 6 6 6 6 6 4 4 6 3 1 4 4 1 4 1 6 6 6 6 6 1 1 6\n",
            " 1 3 1 6 4 4 6 4 4 6 6 6 1 3 6 1 3 3 6 1 1 0 0 4 1 0 4 4 6 4 4 3 0 0 1 0 6\n",
            " 1 0 0 0 0 4 0 4 6 4 6 4 3 4 0 0 0 4 6 6 0 1 0 4 1 1 1 0 1 0 1 0 0 4 1 0 6\n",
            " 1 6 1 3 0 6 1 6 4 0 4 4 1 6 1 6 1 6 4 5 3 3 1 3 4 3 3 4 1 1 6 6 6 6 4 6 4\n",
            " 3 1 6 6 6 6 1 1 1 0 5 1 6 4 6 6 3 4 1 5 1 1 6 4 6 1 6 6 6 6 1 3 3 5 6 6 6\n",
            " 1 6 0 4 6 4 4 6 6 0 6 0 0 4 5 3 6 4 6 0 0 1 4 0 1 4 4 0 0 0 6 6 0 0 4 0 1\n",
            " 6 6 0 1 1 0 6 0 1 3 6 1 0 1 0 1 0 6 1 1 0 4 0 1 0 6 0 0 6 6 6 6 6 6 4 6 1\n",
            " 3 1 3 6 1 4 4 6 6 6 6 6 6 1 6 3 6 6 3 6 6 6 6 6 6 6 1 4 6 1 4 3 3 3 6 3 6\n",
            " 1 6 4 6 1 6 1 6 6 6 6 3 6 6 3 1 4 1 4 0 6 1 4 4 6 4 0 0 3 0 6 6 0 6 0 6 0\n",
            " 6 0 1 6 1 6 0 0 6 6 0 0 0 1 0 1 6 0 1 6 6 0 0 1 1 1 6 1 3 1 0 1 1 0 0 6 4\n",
            " 1 1 1 6 1 6 1 3]\n",
            "Runtime: 284.27s\n"
          ]
        }
      ]
    },
    {
      "cell_type": "code",
      "source": [
        "# policy of Q-learning for N=7 and (episodes, horizon) = (100, 100000) terminated in 46m\n",
        "Q_result = '6 6 6 6 6 6 6 6 6 6 6 6 6 6 6 6 6 6 6 6 6 6 6 6 6 6 6 6 6 6 6 6 1 1 6 1 6\\\n",
        " 1 1 6 1 1 6 1 1 1 6 6 1 1 1 1 6 6 1 1 6 1 6 6 6 1 6 1 0 0 0 0 0 0 0 0 0 0\\\n",
        " 0 0 0 0 0 0 0 0 0 0 0 0 0 0 0 0 0 0 0 0 0 0 0 0 0 0 0 0 0 0 0 0 0 0 0 0 0\\\n",
        " 0 0 0 0 0 0 0 0 0 0 0 0 0 0 0 0 0 6 6 6 6 1 6 6 6 6 6 6 6 6 6 1 6 6 6 6 6\\\n",
        " 6 6 6 6 6 6 6 6 6 6 6 6 1 1 1 1 1 1 1 1 1 1 1 1 1 1 1 1 1 1 1 1 1 1 1 1 1\\\n",
        " 1 1 1 1 1 1 1 0 0 4 0 0 6 0 0 0 0 0 0 0 0 0 0 0 0 0 0 0 0 1 6 0 6 6 0 0 0\\\n",
        " 0 0 1 1 1 1 1 1 1 1 1 1 1 1 1 1 1 1 1 1 1 1 1 1 1 1 1 1 1 1 1 1 1 1 6 6 6\\\n",
        " 1 6 6 6 6 6 6 3 6 6 6 6 6 6 6 6 1 6 6 6 6 6 6 6 3 3 1 6 6 4 1 6 6 6 1 1 6\\\n",
        " 6 6 6 6 1 3 6 6 1 1 6 1 6 6 6 1 3 6 6 6 1 1 1 1 0 6 0 0 0 0 6 0 0 0 6 0 0\\\n",
        " 0 0 6 6 6 6 6 0 1 0 6 0 0 0 6 0 0 6 6 0 0 6 0 6 0 0 0 0 1 6 1 1 0 1 1 6 0\\\n",
        " 1 1 0 0 0 0 0 0 0 6 1 1 0 1 6 6 6 6 6 6 6 6 6 3 3 4 6 6 6 6 1 6 6 6 6 6 6\\\n",
        " 6 3 6 6 6 6 6 3 6 1 1 1 6 1 6 1 1 1 1 1 1 6 6 1 1 6 1 1 6 1 6 6 1 1 3 6 1\\\n",
        " 1 1 6 1 0 0 0 0 6 6 6 0 0 0 0 6 6 0 3 0 6 0 6 6 0 6 0 6 6 6 0 0 3 0 0 0 1\\\n",
        " 1 1 1 6 1 6 6 0 6 1 1 0 0 1 0 1 0 1 1 0 0 1 0 1 1 0 0 1 0 1 0 6 6 6 6 6 6\\\n",
        " 6 6 6 6 6 6 6 6 6 6 6 6 4 6 6 6 6 6 6 6 3 6 6 6 6 6 1 1 1 1 6 1 1 6 4 6 1\\\n",
        " 1 6 6 1 1 1 6 1 6 6 6 1 1 1 6 6 6 6 1 1 4 0 0 0 6 0 0 0 0 0 0 0 6 6 6 0 6\\\n",
        " 0 6 6 0 0 0 0 0 0 0 6 0 0 6 0 0 0 0 0 4 0 0 0 1 4 0 1 0 0 1 0 4 0 0 0 0 1\\\n",
        " 0 0 0 1 0 6 4 1 0 0 0 6 6 6 6 6 6 6 6 4 4 1 6 1 3 1 6 6 6 6 6 6 6 1 6 6 6\\\n",
        " 4 3 6 6 6 6 1 1 1 6 1 6 1 1 1 6 1 1 1 6 1 1 6 1 6 4 1 6 1 1 1 1 1 6 1 6 1\\\n",
        " 1 6 6 0 1 6 0 6 0 0 6 6 6 6 6 6 0 0 0 6 1 0 0 0 6 0 0 0 0 6 0 0 6 0 1 1 0\\\n",
        " 0 0 6 1 1 6 0 0 6 6 6 0 1 0 0 0 6 6 1 0 1 1 1 6 0 1 1 3 6 6 6 6 6 6 6 6 6\\\n",
        " 6 6 6 6 6 6 6 6 6 6 6 6 6 6 6 6 6 6 6 6 6 6 6 6 6 6 6 6 6 6 6 6 6 6 6 6 6\\\n",
        " 6 6 6 6 6 6 6 6 6 6 6 6 6 6 6 6 6 6 6 6 6 6 6 6 6 6 6 6 6 6 6 6 6 6 6 6 6\\\n",
        " 6 6 6 6 6 6 6 6 6 6 6 6 6 6 6 6 6 6 6 6 6 6 6 6 6 6 6 6 6 6 6 6 6 6 6 6 6\\\n",
        " 6 6 6 6 6 6 6 6'\n",
        "number_strings = Q_result.split()\n",
        "numbers_list = [int(num) for num in number_strings]\n",
        "policy_large_Q = np.array(numbers_list)"
      ],
      "metadata": {
        "id": "pvCiv48yyxNQ"
      },
      "execution_count": null,
      "outputs": []
    },
    {
      "cell_type": "markdown",
      "source": [
        "###🔸Q-learning vs. P.I."
      ],
      "metadata": {
        "id": "isFhogdR1fWw"
      }
    },
    {
      "cell_type": "markdown",
      "source": [
        "* Direct policy comparison (not necessary condition)"
      ],
      "metadata": {
        "id": "of_CI2qA1jGR"
      }
    },
    {
      "cell_type": "code",
      "source": [
        "def percent_equal_values(arr1, arr2):\n",
        "    if len(arr1) != len(arr2):\n",
        "        raise ValueError(\"Arrays must be of the same length\")\n",
        "    equal_count = sum(1 for a, b in zip(arr1, arr2) if a == b)\n",
        "    total_count = len(arr1)\n",
        "    equal_percentage = (equal_count / total_count) * 100\n",
        "    return round(equal_percentage)"
      ],
      "metadata": {
        "id": "zBMDLYlI0rX6"
      },
      "execution_count": null,
      "outputs": []
    },
    {
      "cell_type": "code",
      "source": [
        "# check if the two policies are exactly the same\n",
        "percent_equal_values(policy_large, policy_large_Q)"
      ],
      "metadata": {
        "colab": {
          "base_uri": "https://localhost:8080/"
        },
        "id": "Z8PxlPA30zUF",
        "outputId": "626abf2a-148c-4229-be31-ed1463eb55df"
      },
      "execution_count": null,
      "outputs": [
        {
          "output_type": "execute_result",
          "data": {
            "text/plain": [
              "65"
            ]
          },
          "metadata": {},
          "execution_count": 30
        }
      ]
    },
    {
      "cell_type": "markdown",
      "source": [
        "* Average cumulative reward comparison (sufficient condition)"
      ],
      "metadata": {
        "id": "wTnQgHOQ1tuY"
      }
    },
    {
      "cell_type": "code",
      "source": [
        "def play_policy(policy, states, R, P, fee, N_trials):\n",
        "  '''Returns the averaged cumulative reward per trial (N_trials elements)'''\n",
        "  current_state_idx = int(np.random.choice(len(states)))\n",
        "  current_state = states[current_state_idx]  # pick an initial state\n",
        "  action = policy[current_state_idx]\n",
        "  avg_cumul_reward = np.zeros((N_trials,))\n",
        "  total_reward = 0\n",
        "  for i in range(N_trials):\n",
        "    new_state = make_next_state(current_state, action, P)\n",
        "    reward = eval_reward(current_state, new_state, R, fee)\n",
        "    total_reward += reward\n",
        "    avg_cumul_reward[i] = (total_reward) / (i + 1)\n",
        "\n",
        "    current_state_idx = int(np.where((states == current_state).all(axis=1))[0][0])\n",
        "    current_state = states[current_state_idx]\n",
        "    action = policy[current_state_idx]\n",
        "\n",
        "  # mean = np.mean(avg_cumul_reward)\n",
        "  return avg_cumul_reward\n",
        "\n",
        "\n",
        "def run_simulations(policy, states, R, P, fee, N_trials, N_sim):\n",
        "  '''Returns the cumulative reward per round averaged across N_sim simulations (N_trials elements)'''\n",
        "  avg_cumul_reward = np.zeros((N_sim, N_trials))\n",
        "  for sim in range(N_sim):\n",
        "    avg_cumul_reward[sim] = play_policy(policy, states, R, P, fee, N_trials)\n",
        "\n",
        "  means = np.mean(avg_cumul_reward, axis=0)\n",
        "  return means"
      ],
      "metadata": {
        "id": "i-yx40-B1z7j"
      },
      "execution_count": null,
      "outputs": []
    },
    {
      "cell_type": "code",
      "source": [
        "import matplotlib.pyplot as plt\n",
        "np.random.seed(42)\n",
        "\n",
        "N_sim = 100\n",
        "N_trials = 1000\n",
        "\n",
        "# run simulations\n",
        "sims1 = run_simulations(policy_large, possible_states, R, P, 0.01, N_trials, N_sim)\n",
        "sims2 = run_simulations(policy_large_Q, possible_states, R, P, 0.01, N_trials, N_sim)\n",
        "\n",
        "# plot results\n",
        "plt.plot(sims1, color='teal', linewidth=1, label='Policy iteration')\n",
        "plt.plot(sims2, color='darkorange', linewidth=1, label='Q-learning')\n",
        "\n",
        "plt.xlabel('Number of trial')\n",
        "plt.ylabel('Cumulative reward per trial')\n",
        "plt.suptitle(f'Mean cum. reward per trial across {N_sim} simulations', fontsize=13)\n",
        "plt.title(r'$N=7,\\ N_{\\mathrm{episodes}}=100,\\ N_{\\mathrm{steps}}=10^5$', fontsize=9)\n",
        "plt.legend()\n",
        "plt.grid(True, linestyle='--')\n",
        "plt.ylim((0.069, 0.079))\n",
        "plt.show()"
      ],
      "metadata": {
        "colab": {
          "base_uri": "https://localhost:8080/",
          "height": 497
        },
        "id": "vdUBHnfnLFKW",
        "outputId": "560b12ba-de6a-48b9-cdb4-1e122d011f80"
      },
      "execution_count": null,
      "outputs": [
        {
          "output_type": "display_data",
          "data": {
            "text/plain": [
              "<Figure size 640x480 with 1 Axes>"
            ],
            "image/png": "[encoded data removed]"
          },
          "metadata": {}
        }
      ]
    },
    {
      "cell_type": "code",
      "source": [
        "diff = sims1[999]-sims2[999]\n",
        "percent = (sims2[999]/sims1[999])*100\n",
        "print(f'Q-learning mean cum.reward per trial is {diff:4f} less than P.I.')\n",
        "print(f'Q-learning mean cum.reward per trial is {percent:.2f}% that of P.I.')"
      ],
      "metadata": {
        "colab": {
          "base_uri": "https://localhost:8080/"
        },
        "id": "JrL7xTuNETPT",
        "outputId": "ac74783d-894b-4b55-ac1d-5b2475ee4deb"
      },
      "execution_count": null,
      "outputs": [
        {
          "output_type": "stream",
          "name": "stdout",
          "text": [
            "Q-learning mean cum.reward per trial is 0.001670 less than P.I.\n",
            "Q-learning mean cum.reward per trial is 97.87% that of P.I.\n"
          ]
        }
      ]
    },
    {
      "cell_type": "code",
      "source": [
        "(policy_large==policy_large_Q).all()"
      ],
      "metadata": {
        "colab": {
          "base_uri": "https://localhost:8080/"
        },
        "id": "w3U8Bhhsc9mk",
        "outputId": "c1ee3e33-2731-4e67-a7f6-a70a02a76c66"
      },
      "execution_count": null,
      "outputs": [
        {
          "output_type": "execute_result",
          "data": {
            "text/plain": [
              "False"
            ]
          },
          "metadata": {},
          "execution_count": 38
        }
      ]
    },
    {
      "cell_type": "code",
      "source": [
        "import matplotlib.pyplot as plt\n",
        "np.random.seed(42)\n",
        "\n",
        "# compare the above to random policies\n",
        "N_sim = 10\n",
        "N_trials = 1000\n",
        "num_pol = 20\n",
        "policies_rand = np.zeros((num_pol, N_trials))\n",
        "\n",
        "for i in range(num_pol):\n",
        "  rand_policy = np.random.randint(0, N, size=len(possible_states))\n",
        "  sims_rand = run_simulations(rand_policy, possible_states, rewards, probabilities, 0.01, N_trials, N_sim)\n",
        "  policies_rand[i] = sims_rand\n",
        "\n",
        "mean_result = np.repeat(np.mean(policies_rand[:,-1]), N_trials)"
      ],
      "metadata": {
        "id": "k1b1z0-70jBj"
      },
      "execution_count": null,
      "outputs": []
    },
    {
      "cell_type": "code",
      "source": [
        "for i in range(num_pol):\n",
        "    plt.plot(policies_rand[i], linewidth=1)\n",
        "\n",
        "plt.plot(mean_result, linewidth=2, linestyle='--', color='black', label=\"Average performance\")\n",
        "plt.xlabel('Number of trial')\n",
        "plt.ylabel('Cumulative reward per trial')\n",
        "plt.suptitle(f'Performance tested for {num_pol} random policies', fontsize=13)\n",
        "plt.title('N=7', fontsize=9)\n",
        "plt.legend()\n",
        "plt.xlim((0,1000))\n",
        "plt.grid(True, linestyle='--')\n",
        "plt.show()"
      ],
      "metadata": {
        "colab": {
          "base_uri": "https://localhost:8080/",
          "height": 497
        },
        "id": "Ipz_i4JwIY5e",
        "outputId": "30665c5c-06f4-44a5-f3a3-3ac1c4b2254d"
      },
      "execution_count": null,
      "outputs": [
        {
          "output_type": "display_data",
          "data": {
            "text/plain": [
              "<Figure size 640x480 with 1 Axes>"
            ],
            "image/png": "[encoded data removed]"
          },
          "metadata": {}
        }
      ]
    },
    {
      "cell_type": "markdown",
      "source": [
        "##🔹Deep-Q-Network"
      ],
      "metadata": {
        "id": "tuglZf-6N2-H"
      }
    },
    {
      "cell_type": "markdown",
      "source": [
        "###DQN environment functions"
      ],
      "metadata": {
        "id": "EIj5-XvkN60v"
      }
    },
    {
      "cell_type": "code",
      "source": [
        "def DQN_states(MDP_states, rewards):\n",
        "  '''Transforms the MPD state space to DQN state space'''\n",
        "  possible_states = np.empty_like(MDP_states)\n",
        "  for i, state in enumerate(MDP_states):\n",
        "    for j, val in enumerate(state):\n",
        "      if j == 0: continue\n",
        "      stock_state = int(val)\n",
        "      possible_states[i, j] = rewards[j-1, stock_state]\n",
        "  possible_states[:, 0] = MDP_states[:, 0].astype(int)\n",
        "  return possible_states\n",
        "\n",
        "\n",
        "def make_next_state(current_state, action, trans_prob):\n",
        "  '''Generates a new state using the given transition probabilities'''\n",
        "  if action not in range(N):\n",
        "    raise ValueError(\"Action out of range!\")\n",
        "\n",
        "  next_state = np.zeros_like(current_state)\n",
        "  next_state[0] = action    # which stock we are holding\n",
        "  for i, value in enumerate(next_state):\n",
        "    if i == 0: continue\n",
        "    if current_state[i] == 1:\n",
        "      next_state[i] = np.random.choice([1,0], p=trans_prob[i-1, :2])\n",
        "    else:\n",
        "      next_state[i] = np.random.choice([0,1], p=trans_prob[i-1, 2:])\n",
        "  return next_state\n",
        "\n",
        "\n",
        "def MDP_to_DQN(MDP_state, rewards):\n",
        "  DQN_state = np.zeros_like(MDP_state)\n",
        "  DQN_state[0] = MDP_state[0]\n",
        "  for i, val in enumerate(MDP_state):\n",
        "    if i == 0: continue\n",
        "    stock_state = int(val)\n",
        "    DQN_state[i] = rewards[i-1, stock_state]\n",
        "  return DQN_state\n",
        "\n",
        "# def DQN_make_state(state, rewards, probabilities):\n",
        "#   '''Takes as input the current DQN's state and generates a new one based on the P matrix'''\n",
        "#   next_state = np.zeros_like(state)\n",
        "#   for i, value in enumerate(next_state):\n",
        "#     r_L = rewards[i, 0]\n",
        "#     r_H = rewards[i, 1]\n",
        "#     if state[i] == 1:\n",
        "#       next_state[i] = np.random.choice([r_H, r_L], p=probabilities[i, :2])\n",
        "#     else:\n",
        "#       next_state[i] = np.random.choice([r_L, r_H], p=probabilities[i, 2:])\n",
        "#   return next_state\n",
        "\n",
        "\n",
        "def DQN_reward_func(state, next_state, fee):\n",
        "    # calculate reward based on the yield of the stock corresponding to action\n",
        "    previous_action = int(state[0])\n",
        "    action = int(next_state[0])\n",
        "    reward = next_state[action + 1]\n",
        "    if action != previous_action:\n",
        "      reward -= fee\n",
        "    return reward"
      ],
      "metadata": {
        "id": "1zO81kQaOBgr"
      },
      "execution_count": null,
      "outputs": []
    },
    {
      "cell_type": "markdown",
      "source": [
        "###DQN components"
      ],
      "metadata": {
        "id": "U8kqsfilOHq-"
      }
    },
    {
      "cell_type": "code",
      "source": [
        "import torch\n",
        "import torch.nn.functional as F\n",
        "import torch.optim as optim\n",
        "import random\n",
        "\n",
        "\n",
        "def create_dqn(state_size, action_size):\n",
        "    model = torch.nn.Sequential(\n",
        "        torch.nn.Linear(state_size, 64),\n",
        "        torch.nn.ReLU(),\n",
        "        torch.nn.Linear(64, 64),\n",
        "        torch.nn.ReLU(),\n",
        "        torch.nn.Linear(64, action_size)\n",
        "        )\n",
        "    return model\n",
        "\n",
        "\n",
        "def add_to_replay_buffer(buffer, buffer_size, experience):\n",
        "    if len(buffer) >= buffer_size:\n",
        "        buffer.pop(0)\n",
        "    buffer.append(experience)\n",
        "\n",
        "\n",
        "def sample_from_replay_buffer(buffer, batch_size):\n",
        "    return random.sample(buffer, batch_size)\n",
        "\n",
        "\n",
        "def select_action(state, epsilon, action_size, dqn):\n",
        "    if random.random() < epsilon:\n",
        "        return random.randint(0, action_size - 1)\n",
        "    else:\n",
        "        state = torch.FloatTensor(state).unsqueeze(0)\n",
        "        # print(f\"State shape: {state.shape}\")  # Debug: Print state shape\n",
        "        with torch.no_grad():\n",
        "            q_values = dqn(state)\n",
        "        # print(f\"Q-values: {q_values}\")  # Debug: Print Q-values\n",
        "        return torch.argmax(q_values).item()\n",
        "\n",
        "\n",
        "def compute_loss(dqn, target_dqn, batch, gamma):\n",
        "    states, actions, rewards, next_states = zip(*batch)\n",
        "\n",
        "    states = torch.FloatTensor(np.array(states))\n",
        "    actions = torch.LongTensor(actions).unsqueeze(1)\n",
        "    rewards = torch.FloatTensor(rewards).unsqueeze(1)\n",
        "    next_states = torch.FloatTensor(np.array(next_states))\n",
        "\n",
        "    current_q_values = dqn(states).gather(1, actions)\n",
        "    next_q_values = target_dqn(next_states).max(1)[0].unsqueeze(1)\n",
        "    target_q_values = rewards + (gamma * next_q_values)\n",
        "\n",
        "    loss = F.mse_loss(current_q_values, target_q_values)\n",
        "    return loss\n",
        "\n",
        "\n",
        "def update_dqn(dqn, target_dqn, optimizer, batch, gamma):\n",
        "    loss = compute_loss(dqn, target_dqn, batch, gamma)\n",
        "    optimizer.zero_grad()\n",
        "    loss.backward()\n",
        "    optimizer.step()"
      ],
      "metadata": {
        "id": "f6op57KAOIRz"
      },
      "execution_count": null,
      "outputs": []
    },
    {
      "cell_type": "markdown",
      "source": [
        "###Training on the large scenario"
      ],
      "metadata": {
        "id": "jirtE7RQOsxL"
      }
    },
    {
      "cell_type": "code",
      "source": [
        "np.random.seed(42)\n",
        "\n",
        "# environment parameters\n",
        "N = 7\n",
        "rewards, probabilities, init_state = make_environment(N, [-0.02, 0.1])\n",
        "h = N // 2\n",
        "for i, row in enumerate(probabilities):\n",
        "  if i <= h:\n",
        "    probabilities[i] = [0.9, 0.1, 0.9, 0.1]\n",
        "  else:\n",
        "    probabilities[i] = [0.5, 0.5, 0.5, 0.5]\n",
        "\n",
        "fee = 0.01\n",
        "gamma = 0.9\n",
        "\n",
        "MDP_states = generate_possible_states(N)\n",
        "states = DQN_states(MDP_states, rewards)\n",
        "\n",
        "rewards_df = pd.DataFrame(rewards, columns=['L', 'H'])\n",
        "probabilities_df = pd.DataFrame(probabilities, columns=['p_HH', 'p_HL', 'p_LL', 'p_LH'])\n",
        "\n",
        "print(17*'--')\n",
        "print(\"Immediate rewards\")\n",
        "print(rewards_df)\n",
        "print(\"(Transaction fee = 0.01)\")\n",
        "print(17*'--')\n",
        "print(\"Transition probabilities\")\n",
        "print(probabilities_df)\n",
        "print(17*'--')\n",
        "print(f\"Number of states = {MDP_states.shape[0]}\")"
      ],
      "metadata": {
        "colab": {
          "base_uri": "https://localhost:8080/"
        },
        "id": "Ojc682otOqar",
        "outputId": "d17c4616-2dab-48d3-f20c-13b21528b1f0"
      },
      "execution_count": null,
      "outputs": [
        {
          "output_type": "stream",
          "name": "stdout",
          "text": [
            "----------------------------------\n",
            "Immediate rewards\n",
            "        L       H\n",
            "0  0.0249  0.0963\n",
            "1  0.0678  0.0871\n",
            "2 -0.0013  0.0145\n",
            "3 -0.0130  0.0849\n",
            "4  0.0521  0.0860\n",
            "5 -0.0175  0.0965\n",
            "6  0.0799  0.0842\n",
            "(Transaction fee = 0.01)\n",
            "----------------------------------\n",
            "Transition probabilities\n",
            "   p_HH  p_HL  p_LL  p_LH\n",
            "0   0.9   0.1   0.9   0.1\n",
            "1   0.9   0.1   0.9   0.1\n",
            "2   0.9   0.1   0.9   0.1\n",
            "3   0.9   0.1   0.9   0.1\n",
            "4   0.5   0.5   0.5   0.5\n",
            "5   0.5   0.5   0.5   0.5\n",
            "6   0.5   0.5   0.5   0.5\n",
            "----------------------------------\n",
            "Number of states = 896\n"
          ]
        }
      ]
    },
    {
      "cell_type": "code",
      "source": [
        "np.random.seed(42)\n",
        "torch.manual_seed(42)\n",
        "torch.backends.cudnn.deterministic = True\n",
        "\n",
        "state_size = N + 1  # length of a state\n",
        "action_size = N   # num of possible actions\n",
        "\n",
        "# model parameters\n",
        "learning_rate = 0.01\n",
        "epsilon = 0.1\n",
        "# epsilon_decay = 0.9\n",
        "# epsilon_min = 0.1\n",
        "num_episodes = 100\n",
        "max_steps = 100\n",
        "batch_size = 32\n",
        "buffer_size = 10000\n",
        "\n",
        "replay_buffer = []\n",
        "# initialize DQN, target DQN, optimizer\n",
        "dqn = create_dqn(state_size, action_size)\n",
        "target_dqn = create_dqn(state_size, action_size)\n",
        "target_dqn.load_state_dict(dqn.state_dict())\n",
        "optimizer = optim.Adam(dqn.parameters(), lr=learning_rate)\n",
        "\n",
        "# training loop\n",
        "for episode in range(num_episodes):\n",
        "    state_index = int(np.random.choice(len(states)))\n",
        "    MDP_state = MDP_states[state_index]   # pick an initial state\n",
        "    state = MDP_to_DQN(MDP_state, rewards)    # convert the state to DQN state\n",
        "    done = False\n",
        "    # total_reward = 0\n",
        "    steps = 0\n",
        "    while not done:\n",
        "        action = select_action(state, epsilon, action_size, dqn)\n",
        "        next_MDP_state = make_next_state(MDP_state, action, probabilities)\n",
        "        next_state = MDP_to_DQN(next_MDP_state, rewards)\n",
        "        reward = DQN_reward_func(state, next_state, fee)\n",
        "        # total_reward += reward\n",
        "\n",
        "        add_to_replay_buffer(replay_buffer, buffer_size, (state, action, reward, next_state))\n",
        "        state = next_state\n",
        "        if len(replay_buffer) > batch_size:\n",
        "            batch = sample_from_replay_buffer(replay_buffer, batch_size)\n",
        "            update_dqn(dqn, target_dqn, optimizer, batch, gamma)\n",
        "\n",
        "        steps += 1\n",
        "        if steps >= max_steps:\n",
        "            done = True\n",
        "        # if epsilon > epsilon_min:\n",
        "        #     epsilon *= epsilon_decay\n",
        "    if episode % 10 == 0:\n",
        "        target_dqn.load_state_dict(dqn.state_dict())"
      ],
      "metadata": {
        "id": "l0CtMMllO33p"
      },
      "execution_count": null,
      "outputs": []
    },
    {
      "cell_type": "code",
      "source": [
        "def extract_DQN_policy(dqn, all_states):\n",
        "    policy = []\n",
        "    for state in all_states:\n",
        "        state_tensor = torch.FloatTensor(state).unsqueeze(0)  # Convert state to tensor\n",
        "        with torch.no_grad():\n",
        "            q_values = dqn(state_tensor)  # Get Q-values from the DQN\n",
        "        optimal_action = torch.argmax(q_values).item()  # Select action with highest Q-value\n",
        "        policy.append(optimal_action)  # Store the optimal action for this state\n",
        "    return np.array(policy)"
      ],
      "metadata": {
        "id": "KzJbnVIR5FOH"
      },
      "execution_count": null,
      "outputs": []
    },
    {
      "cell_type": "code",
      "source": [
        "DQN_policy = extract_DQN_policy(dqn, states)\n",
        "\n",
        "# Print the optimal policy\n",
        "print(f\"Optimal Policy: {DQN_policy}\")"
      ],
      "metadata": {
        "colab": {
          "base_uri": "https://localhost:8080/"
        },
        "id": "hj3CfqZP7dqv",
        "outputId": "be53c06d-91a9-4357-d9a5-3788cbc528f1"
      },
      "execution_count": null,
      "outputs": [
        {
          "output_type": "stream",
          "name": "stdout",
          "text": [
            "Optimal Policy: [6 6 1 1 1 1 1 1 6 6 6 6 6 6 1 1 6 6 6 6 6 6 1 1 6 6 6 6 6 6 6 6 1 1 1 1 1\n",
            " 1 1 1 1 1 1 1 1 1 1 1 1 1 1 1 1 1 1 1 1 1 1 1 1 1 1 1 0 0 0 0 0 0 0 0 0 0\n",
            " 0 0 0 0 0 0 0 0 0 0 0 0 0 0 0 0 0 0 0 0 0 0 0 0 0 0 0 0 0 0 0 0 0 0 0 0 0\n",
            " 0 0 0 0 0 0 0 0 0 0 0 0 0 0 0 0 0 6 6 6 6 6 6 6 6 6 6 6 6 6 6 6 6 6 6 6 6\n",
            " 6 6 6 6 6 6 6 6 6 6 6 6 6 6 6 6 6 6 6 6 6 6 6 6 6 6 6 6 6 6 6 6 6 6 6 6 6\n",
            " 6 6 6 6 6 6 6 6 6 6 6 6 6 1 1 6 6 6 6 6 6 6 6 6 6 6 6 6 6 6 6 6 6 6 6 6 6\n",
            " 6 6 1 1 1 1 1 1 1 1 6 6 0 0 6 6 0 0 1 1 1 1 1 1 1 1 6 6 6 6 6 6 6 6 6 6 6\n",
            " 6 6 6 6 6 6 6 6 6 6 6 6 6 6 6 6 6 6 6 6 6 6 6 6 6 6 6 6 6 6 6 6 6 6 6 6 6\n",
            " 6 6 6 6 6 6 6 6 6 6 6 6 6 6 6 6 6 6 6 6 6 6 6 6 6 6 6 6 6 6 6 6 6 6 6 6 6\n",
            " 6 6 6 6 6 6 6 6 6 6 6 6 6 6 6 6 6 6 6 6 6 6 6 6 6 6 6 6 6 6 6 6 6 6 6 6 6\n",
            " 6 6 6 6 6 6 6 6 6 6 6 6 6 6 6 6 6 6 6 6 6 6 6 6 6 6 6 6 6 6 6 6 6 6 6 6 6\n",
            " 6 6 6 6 6 6 6 6 6 6 6 6 6 6 6 6 6 6 6 6 6 6 6 6 6 6 6 6 6 6 6 6 6 6 6 6 6\n",
            " 6 6 6 6 6 6 6 6 6 6 6 6 6 6 6 6 6 6 6 6 6 6 6 6 6 6 6 6 6 6 6 6 6 6 6 6 6\n",
            " 6 6 6 6 6 6 6 6 6 6 6 6 6 6 6 6 6 6 6 6 6 6 6 6 6 6 6 6 6 6 6 6 6 6 6 6 6\n",
            " 6 6 6 6 6 6 6 6 6 6 6 6 6 6 6 6 6 6 6 6 6 6 6 6 6 6 6 6 6 6 6 6 6 6 6 6 6\n",
            " 6 6 6 6 6 6 6 6 6 6 6 6 6 6 6 6 6 6 6 6 6 6 6 6 6 6 6 6 6 6 6 6 6 6 6 6 6\n",
            " 6 6 6 6 6 6 6 6 6 6 6 6 6 6 6 6 6 6 6 6 6 6 6 6 6 6 6 6 6 6 6 6 6 6 6 6 6\n",
            " 6 6 6 6 6 6 6 6 6 6 6 6 6 6 6 6 6 6 6 6 6 6 6 6 6 6 6 6 6 6 6 6 6 6 6 6 6\n",
            " 6 6 6 6 6 6 6 6 6 6 6 6 6 6 6 6 6 6 6 6 6 6 6 6 6 6 6 6 6 6 6 6 6 6 6 6 6\n",
            " 6 6 6 6 6 6 6 6 6 6 6 6 6 6 6 6 6 6 6 6 6 6 6 6 6 6 6 6 6 6 6 6 6 6 6 6 6\n",
            " 6 6 6 6 6 6 6 6 6 6 6 6 6 6 6 6 6 6 6 6 6 6 6 6 6 6 6 6 6 6 6 6 6 6 6 6 6\n",
            " 6 6 6 6 6 6 6 6 6 6 6 6 6 6 6 6 6 6 6 6 6 6 6 6 6 6 6 6 6 6 6 6 6 6 6 6 6\n",
            " 6 6 6 6 6 6 6 6 6 6 6 6 6 6 6 6 6 6 6 6 6 6 6 6 6 6 6 6 6 6 6 6 6 6 6 6 6\n",
            " 6 6 6 6 6 6 6 6 6 6 6 6 6 6 6 6 6 6 6 6 6 6 6 6 6 6 6 6 6 6 6 6 6 6 6 6 6\n",
            " 6 6 6 6 6 6 6 6]\n"
          ]
        }
      ]
    },
    {
      "cell_type": "markdown",
      "source": [
        "###🔸DQN vs. Q-learning"
      ],
      "metadata": {
        "id": "dPxERW0eGCHn"
      }
    },
    {
      "cell_type": "code",
      "source": [
        "# check if the two policies are exactly the same\n",
        "percent_equal_values(DQN_policy, policy_large)"
      ],
      "metadata": {
        "colab": {
          "base_uri": "https://localhost:8080/"
        },
        "id": "U5n8Ulh49WlQ",
        "outputId": "80c195bb-56ba-4f7b-ce21-215d932a45e0"
      },
      "execution_count": null,
      "outputs": [
        {
          "output_type": "execute_result",
          "data": {
            "text/plain": [
              "36"
            ]
          },
          "metadata": {},
          "execution_count": 293
        }
      ]
    },
    {
      "cell_type": "code",
      "source": [
        "import matplotlib.pyplot as plt\n",
        "np.random.seed(42)\n",
        "\n",
        "N_sim = 100\n",
        "N_trials = 1000\n",
        "\n",
        "# run simulations\n",
        "sims1 = run_simulations(policy_large, possible_states, rewards, probabilities, 0.01, N_trials, N_sim)\n",
        "sims2 = run_simulations(policy_large_Q, possible_states, rewards, probabilities, 0.01, N_trials, N_sim)\n",
        "sims3 = run_simulations(DQN_policy, possible_states, rewards, probabilities, 0.01, N_trials, N_sim)\n",
        "\n",
        "# plot results\n",
        "plt.plot(sims1, color='teal', linewidth=1, label='Policy iteration')\n",
        "plt.plot(sims2, color='darkorange', linewidth=1, label='Q-learning')\n",
        "plt.plot(sims3, color='purple', linewidth=1, label='DQN')\n",
        "plt.plot(mean_result, linewidth=2, linestyle='--', color='black', label=\"Random policies\")\n",
        "\n",
        "plt.xlabel('Number of trial')\n",
        "plt.ylabel('Cumulative reward per trial')\n",
        "plt.suptitle(f'Algorithm comparison for N = 7', fontsize=13)\n",
        "plt.title(r'$DQN \\ parameters:\\ N_{\\mathrm{episodes}}=100,\\ N_{\\mathrm{steps}}=100$', fontsize=9)\n",
        "plt.legend(loc='center right')\n",
        "plt.grid(True, linestyle='--')\n",
        "plt.xlim((-5, 1000))\n",
        "# plt.ylim((0.069, 0.079))\n",
        "plt.show()"
      ],
      "metadata": {
        "colab": {
          "base_uri": "https://localhost:8080/",
          "height": 497
        },
        "id": "n_2vm2YMF80V",
        "outputId": "f7682f97-cc85-49d0-84a7-ff4942163f9d"
      },
      "execution_count": null,
      "outputs": [
        {
          "output_type": "display_data",
          "data": {
            "text/plain": [
              "<Figure size 640x480 with 1 Axes>"
            ],
            "image/png": "[encoded data removed]"
          },
          "metadata": {}
        }
      ]
    },
    {
      "cell_type": "code",
      "source": [
        "diff = sims1[999]-sims3[999]\n",
        "percent = (sims3[999]/sims1[999])*100\n",
        "print(f'DQN mean cumulative reward per trial is {diff:4f} less than P.I.')\n",
        "print(f'DQN mean cumulative reward per trial is {percent:.2f}% that of P.I.')"
      ],
      "metadata": {
        "colab": {
          "base_uri": "https://localhost:8080/"
        },
        "id": "W5Qx5OzloaIW",
        "outputId": "7cfd48cc-03f7-41ec-f0e5-0af88e27b49f"
      },
      "execution_count": null,
      "outputs": [
        {
          "output_type": "stream",
          "name": "stdout",
          "text": [
            "DQN mean cumulative reward per trial is 0.003156 less than P.I.\n",
            "DQN mean cumulative reward per trial is 95.97% that of P.I.\n"
          ]
        }
      ]
    }
  ]
}